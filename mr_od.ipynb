{
 "cells": [
  {
   "cell_type": "code",
   "execution_count": 29,
   "outputs": [
    {
     "name": "stderr",
     "output_type": "stream",
     "text": [
      "/var/folders/p9/yqjz85994xb5q9_xqzc25_wc0000gn/T/ipykernel_24390/1338001678.py:54: SettingWithCopyWarning: \n",
      "A value is trying to be set on a copy of a slice from a DataFrame.\n",
      "Try using .loc[row_indexer,col_indexer] = value instead\n",
      "\n",
      "See the caveats in the documentation: https://pandas.pydata.org/pandas-docs/stable/user_guide/indexing.html#returning-a-view-versus-a-copy\n",
      "  o_2023_01_16['prob'] = o_2023_01_16['count'] / o_count_sum\n",
      "/var/folders/p9/yqjz85994xb5q9_xqzc25_wc0000gn/T/ipykernel_24390/1338001678.py:55: SettingWithCopyWarning: \n",
      "A value is trying to be set on a copy of a slice from a DataFrame.\n",
      "Try using .loc[row_indexer,col_indexer] = value instead\n",
      "\n",
      "See the caveats in the documentation: https://pandas.pydata.org/pandas-docs/stable/user_guide/indexing.html#returning-a-view-versus-a-copy\n",
      "  d_2023_01_16['prob'] = d_2023_01_16['count'] / d_count_sum\n"
     ]
    }
   ],
   "source": [
    "import pandas as pd\n",
    "import numpy as np\n",
    "\n",
    "\n",
    "# 创建示例数据\n",
    "np.random.seed(123)\n",
    "station_ids = np.random.randint(0, 367, size=1000)\n",
    "dates = pd.date_range(start='2023-01-16', end='2023-02-12', freq='D')\n",
    "\n",
    "# 创建包含所有可能组合的 DataFrame\n",
    "df1 = pd.DataFrame({'station_id': np.repeat(station_ids, len(dates)),\n",
    "                   'date': np.tile(dates, len(station_ids))})\n",
    "# 去除重复的行，确保相同的 station_id 和 date 只有一行数据\n",
    "df1 = df1.drop_duplicates(subset=['station_id', 'date'])\n",
    "# 为每个组合生成随机的 count\n",
    "df1['count'] = np.random.randint(0, 10, size=len(df1))\n",
    "\n",
    "df1.to_csv('input/mr_o_count.csv')\n",
    "df1.sort_values(['station_id','date'],inplace=True)\n",
    "df1\n",
    "\n",
    "\n",
    "# 创建示例数据\n",
    "np.random.seed(125)\n",
    "station_ids = np.random.randint(0, 367, size=1000)\n",
    "dates = pd.date_range(start='2023-01-16', end='2023-02-12', freq='D')\n",
    "\n",
    "# 创建包含所有可能组合的 DataFrame\n",
    "df2 = pd.DataFrame({'station_id': np.repeat(station_ids, len(dates)),\n",
    "                   'date': np.tile(dates, len(station_ids))})\n",
    "# 去除重复的行，确保相同的 station_id 和 date 只有一行数据\n",
    "df2 = df2.drop_duplicates(subset=['station_id', 'date'])\n",
    "# 为每个组合生成随机的 count\n",
    "df2['count'] = np.random.randint(0, 10, size=len(df2))\n",
    "\n",
    "df2.sort_values(['station_id','date'])\n",
    "\n",
    "df2.to_csv('input/mr_d_count.csv')\n",
    "df2.sort_values(['station_id','date'],inplace=True)\n",
    "df2\n",
    "\n",
    "\n",
    "\n",
    "# 使用筛选条件提取日期为 2023-01-16 的数据\n",
    "o_2023_01_16 = df1[df1['date'] == pd.to_datetime('2023-01-16')]\n",
    "d_2023_01_16 = df2[df2['date'] == pd.to_datetime('2023-01-16')]\n",
    "\n",
    "\n",
    "# 计算 count 列的总和\n",
    "o_count_sum = o_2023_01_16['count'].sum()\n",
    "d_count_sum = d_2023_01_16['count'].sum()\n",
    "\n",
    "# 将 count 列的值除以总和，得到归一化后的 prob 列\n",
    "o_2023_01_16['prob'] = o_2023_01_16['count'] / o_count_sum\n",
    "d_2023_01_16['prob'] = d_2023_01_16['count'] / d_count_sum\n",
    "# o_2023_01_16 = o_2023_01_16.rename(columns={'station_id': 'station_id', 'prob': 'prob'})\n",
    "\n",
    "o_2023_01_16.to_csv('input/mr_o_prob.csv')\n",
    "o_2023_01_16.to_csv('input/mr_d_prob.csv')"
   ],
   "metadata": {
    "collapsed": false
   }
  },
  {
   "cell_type": "code",
   "execution_count": 54,
   "outputs": [
    {
     "data": {
      "text/plain": "     station_id  count       avg      prob\n0             0    116  4.142857  0.074169\n1             1    129  4.607143  0.082481\n2             2    135  4.821429  0.086317\n3             3    115  4.107143  0.073529\n4             4    124  4.428571  0.079284\n..          ...    ...       ...       ...\n336         362    118  4.214286  0.075448\n337         363    132  4.714286  0.084399\n338         364    145  5.178571  0.092711\n339         365    113  4.035714  0.072251\n340         366    118  4.214286  0.075448\n\n[341 rows x 4 columns]",
      "text/html": "<div>\n<style scoped>\n    .dataframe tbody tr th:only-of-type {\n        vertical-align: middle;\n    }\n\n    .dataframe tbody tr th {\n        vertical-align: top;\n    }\n\n    .dataframe thead th {\n        text-align: right;\n    }\n</style>\n<table border=\"1\" class=\"dataframe\">\n  <thead>\n    <tr style=\"text-align: right;\">\n      <th></th>\n      <th>station_id</th>\n      <th>count</th>\n      <th>avg</th>\n      <th>prob</th>\n    </tr>\n  </thead>\n  <tbody>\n    <tr>\n      <th>0</th>\n      <td>0</td>\n      <td>116</td>\n      <td>4.142857</td>\n      <td>0.074169</td>\n    </tr>\n    <tr>\n      <th>1</th>\n      <td>1</td>\n      <td>129</td>\n      <td>4.607143</td>\n      <td>0.082481</td>\n    </tr>\n    <tr>\n      <th>2</th>\n      <td>2</td>\n      <td>135</td>\n      <td>4.821429</td>\n      <td>0.086317</td>\n    </tr>\n    <tr>\n      <th>3</th>\n      <td>3</td>\n      <td>115</td>\n      <td>4.107143</td>\n      <td>0.073529</td>\n    </tr>\n    <tr>\n      <th>4</th>\n      <td>4</td>\n      <td>124</td>\n      <td>4.428571</td>\n      <td>0.079284</td>\n    </tr>\n    <tr>\n      <th>...</th>\n      <td>...</td>\n      <td>...</td>\n      <td>...</td>\n      <td>...</td>\n    </tr>\n    <tr>\n      <th>336</th>\n      <td>362</td>\n      <td>118</td>\n      <td>4.214286</td>\n      <td>0.075448</td>\n    </tr>\n    <tr>\n      <th>337</th>\n      <td>363</td>\n      <td>132</td>\n      <td>4.714286</td>\n      <td>0.084399</td>\n    </tr>\n    <tr>\n      <th>338</th>\n      <td>364</td>\n      <td>145</td>\n      <td>5.178571</td>\n      <td>0.092711</td>\n    </tr>\n    <tr>\n      <th>339</th>\n      <td>365</td>\n      <td>113</td>\n      <td>4.035714</td>\n      <td>0.072251</td>\n    </tr>\n    <tr>\n      <th>340</th>\n      <td>366</td>\n      <td>118</td>\n      <td>4.214286</td>\n      <td>0.075448</td>\n    </tr>\n  </tbody>\n</table>\n<p>341 rows × 4 columns</p>\n</div>"
     },
     "execution_count": 54,
     "metadata": {},
     "output_type": "execute_result"
    }
   ],
   "source": [
    "df1_avg = df1.groupby('station_id')['count'].sum().reset_index()\n",
    "df1_avg['avg'] = df1_avg['count']/28\n",
    "df2_avg = df2.groupby('station_id')['count'].sum().reset_index()\n",
    "df2_avg['avg'] = df2_avg['count']/28\n",
    "# 将 count 列的值除以总和，得到归一化后的 prob 列\n",
    "df1_avg['prob'] = df1_avg['count'] / o_count_sum\n",
    "df2_avg['prob'] = df2_avg['count'] / d_count_sum\n",
    "# o_2023_01_16 = o_2023_01_16.rename(columns={'station_id': 'station_id', 'prob': 'prob'})\n",
    "\n",
    "df1_avg.to_csv('input/mr_o_prob.csv')\n",
    "df2_avg.to_csv('input/mr_d_prob.csv')\n",
    "df1_avg\n",
    "df2_avg"
   ],
   "metadata": {
    "collapsed": false
   }
  },
  {
   "cell_type": "code",
   "execution_count": 57,
   "outputs": [
    {
     "data": {
      "text/plain": "     station_id  count       avg      prob\n0             0    116  4.142857  0.074169\n1             1    129  4.607143  0.082481\n2             2    135  4.821429  0.086317\n3             3    115  4.107143  0.073529\n4             4    124  4.428571  0.079284\n..          ...    ...       ...       ...\n336         362    118  4.214286  0.075448\n337         363    132  4.714286  0.084399\n338         364    145  5.178571  0.092711\n339         365    113  4.035714  0.072251\n340         366    118  4.214286  0.075448\n\n[341 rows x 4 columns]",
      "text/html": "<div>\n<style scoped>\n    .dataframe tbody tr th:only-of-type {\n        vertical-align: middle;\n    }\n\n    .dataframe tbody tr th {\n        vertical-align: top;\n    }\n\n    .dataframe thead th {\n        text-align: right;\n    }\n</style>\n<table border=\"1\" class=\"dataframe\">\n  <thead>\n    <tr style=\"text-align: right;\">\n      <th></th>\n      <th>station_id</th>\n      <th>count</th>\n      <th>avg</th>\n      <th>prob</th>\n    </tr>\n  </thead>\n  <tbody>\n    <tr>\n      <th>0</th>\n      <td>0</td>\n      <td>116</td>\n      <td>4.142857</td>\n      <td>0.074169</td>\n    </tr>\n    <tr>\n      <th>1</th>\n      <td>1</td>\n      <td>129</td>\n      <td>4.607143</td>\n      <td>0.082481</td>\n    </tr>\n    <tr>\n      <th>2</th>\n      <td>2</td>\n      <td>135</td>\n      <td>4.821429</td>\n      <td>0.086317</td>\n    </tr>\n    <tr>\n      <th>3</th>\n      <td>3</td>\n      <td>115</td>\n      <td>4.107143</td>\n      <td>0.073529</td>\n    </tr>\n    <tr>\n      <th>4</th>\n      <td>4</td>\n      <td>124</td>\n      <td>4.428571</td>\n      <td>0.079284</td>\n    </tr>\n    <tr>\n      <th>...</th>\n      <td>...</td>\n      <td>...</td>\n      <td>...</td>\n      <td>...</td>\n    </tr>\n    <tr>\n      <th>336</th>\n      <td>362</td>\n      <td>118</td>\n      <td>4.214286</td>\n      <td>0.075448</td>\n    </tr>\n    <tr>\n      <th>337</th>\n      <td>363</td>\n      <td>132</td>\n      <td>4.714286</td>\n      <td>0.084399</td>\n    </tr>\n    <tr>\n      <th>338</th>\n      <td>364</td>\n      <td>145</td>\n      <td>5.178571</td>\n      <td>0.092711</td>\n    </tr>\n    <tr>\n      <th>339</th>\n      <td>365</td>\n      <td>113</td>\n      <td>4.035714</td>\n      <td>0.072251</td>\n    </tr>\n    <tr>\n      <th>340</th>\n      <td>366</td>\n      <td>118</td>\n      <td>4.214286</td>\n      <td>0.075448</td>\n    </tr>\n  </tbody>\n</table>\n<p>341 rows × 4 columns</p>\n</div>"
     },
     "execution_count": 57,
     "metadata": {},
     "output_type": "execute_result"
    }
   ],
   "source": [
    "df1_avg\n",
    "df2_avg"
   ],
   "metadata": {
    "collapsed": false
   }
  },
  {
   "cell_type": "code",
   "execution_count": 35,
   "outputs": [
    {
     "name": "stdout",
     "output_type": "stream",
     "text": [
      "28\n"
     ]
    }
   ],
   "source": [
    "\n",
    "from datetime import datetime\n",
    "\n",
    "start_date = datetime.strptime('2023-01-16', '%Y-%m-%d')\n",
    "end_date = datetime.strptime('2023-02-12', '%Y-%m-%d')\n",
    "\n",
    "days = (end_date - start_date).days + 1\n",
    "\n",
    "print(days)"
   ],
   "metadata": {
    "collapsed": false
   }
  },
  {
   "cell_type": "markdown",
   "source": [],
   "metadata": {
    "collapsed": false
   }
  },
  {
   "cell_type": "code",
   "execution_count": 25,
   "outputs": [
    {
     "name": "stderr",
     "output_type": "stream",
     "text": [
      "/var/folders/p9/yqjz85994xb5q9_xqzc25_wc0000gn/T/ipykernel_24390/3110648853.py:7: SettingWithCopyWarning: \n",
      "A value is trying to be set on a copy of a slice from a DataFrame.\n",
      "Try using .loc[row_indexer,col_indexer] = value instead\n",
      "\n",
      "See the caveats in the documentation: https://pandas.pydata.org/pandas-docs/stable/user_guide/indexing.html#returning-a-view-versus-a-copy\n",
      "  o_2023_01_16['prob'] = o_2023_01_16['count'] / o_count_sum\n",
      "/var/folders/p9/yqjz85994xb5q9_xqzc25_wc0000gn/T/ipykernel_24390/3110648853.py:8: SettingWithCopyWarning: \n",
      "A value is trying to be set on a copy of a slice from a DataFrame.\n",
      "Try using .loc[row_indexer,col_indexer] = value instead\n",
      "\n",
      "See the caveats in the documentation: https://pandas.pydata.org/pandas-docs/stable/user_guide/indexing.html#returning-a-view-versus-a-copy\n",
      "  d_2023_01_16['prob'] = d_2023_01_16['count'] / d_count_sum\n"
     ]
    },
    {
     "data": {
      "text/plain": "       station_id       date  count      prob\n13076           0 2023-01-16      4  0.002745\n2156            1 2023-01-16      9  0.006177\n756             2 2023-01-16      5  0.003432\n2324            3 2023-01-16      2  0.001373\n7280            4 2023-01-16      2  0.001373\n...           ...        ...    ...       ...\n14056         362 2023-01-16      8  0.005491\n19292         363 2023-01-16      9  0.006177\n3640          364 2023-01-16      3  0.002059\n0             365 2023-01-16      8  0.005491\n2828          366 2023-01-16      0  0.000000\n\n[338 rows x 4 columns]",
      "text/html": "<div>\n<style scoped>\n    .dataframe tbody tr th:only-of-type {\n        vertical-align: middle;\n    }\n\n    .dataframe tbody tr th {\n        vertical-align: top;\n    }\n\n    .dataframe thead th {\n        text-align: right;\n    }\n</style>\n<table border=\"1\" class=\"dataframe\">\n  <thead>\n    <tr style=\"text-align: right;\">\n      <th></th>\n      <th>station_id</th>\n      <th>date</th>\n      <th>count</th>\n      <th>prob</th>\n    </tr>\n  </thead>\n  <tbody>\n    <tr>\n      <th>13076</th>\n      <td>0</td>\n      <td>2023-01-16</td>\n      <td>4</td>\n      <td>0.002745</td>\n    </tr>\n    <tr>\n      <th>2156</th>\n      <td>1</td>\n      <td>2023-01-16</td>\n      <td>9</td>\n      <td>0.006177</td>\n    </tr>\n    <tr>\n      <th>756</th>\n      <td>2</td>\n      <td>2023-01-16</td>\n      <td>5</td>\n      <td>0.003432</td>\n    </tr>\n    <tr>\n      <th>2324</th>\n      <td>3</td>\n      <td>2023-01-16</td>\n      <td>2</td>\n      <td>0.001373</td>\n    </tr>\n    <tr>\n      <th>7280</th>\n      <td>4</td>\n      <td>2023-01-16</td>\n      <td>2</td>\n      <td>0.001373</td>\n    </tr>\n    <tr>\n      <th>...</th>\n      <td>...</td>\n      <td>...</td>\n      <td>...</td>\n      <td>...</td>\n    </tr>\n    <tr>\n      <th>14056</th>\n      <td>362</td>\n      <td>2023-01-16</td>\n      <td>8</td>\n      <td>0.005491</td>\n    </tr>\n    <tr>\n      <th>19292</th>\n      <td>363</td>\n      <td>2023-01-16</td>\n      <td>9</td>\n      <td>0.006177</td>\n    </tr>\n    <tr>\n      <th>3640</th>\n      <td>364</td>\n      <td>2023-01-16</td>\n      <td>3</td>\n      <td>0.002059</td>\n    </tr>\n    <tr>\n      <th>0</th>\n      <td>365</td>\n      <td>2023-01-16</td>\n      <td>8</td>\n      <td>0.005491</td>\n    </tr>\n    <tr>\n      <th>2828</th>\n      <td>366</td>\n      <td>2023-01-16</td>\n      <td>0</td>\n      <td>0.000000</td>\n    </tr>\n  </tbody>\n</table>\n<p>338 rows × 4 columns</p>\n</div>"
     },
     "execution_count": 25,
     "metadata": {},
     "output_type": "execute_result"
    }
   ],
   "source": [
    "\n",
    "o_2023_01_16"
   ],
   "metadata": {
    "collapsed": false
   }
  },
  {
   "cell_type": "code",
   "execution_count": 26,
   "outputs": [
    {
     "data": {
      "text/plain": "       station_id       date  count      prob\n12208           0 2023-01-16      7  0.004476\n8176            1 2023-01-16      6  0.003836\n7252            2 2023-01-16      4  0.002558\n19600           3 2023-01-16      4  0.002558\n4228            4 2023-01-16      5  0.003197\n...           ...        ...    ...       ...\n3752          362 2023-01-16      8  0.005115\n1064          363 2023-01-16      6  0.003836\n560           364 2023-01-16      3  0.001918\n4732          365 2023-01-16      3  0.001918\n13328         366 2023-01-16      4  0.002558\n\n[341 rows x 4 columns]",
      "text/html": "<div>\n<style scoped>\n    .dataframe tbody tr th:only-of-type {\n        vertical-align: middle;\n    }\n\n    .dataframe tbody tr th {\n        vertical-align: top;\n    }\n\n    .dataframe thead th {\n        text-align: right;\n    }\n</style>\n<table border=\"1\" class=\"dataframe\">\n  <thead>\n    <tr style=\"text-align: right;\">\n      <th></th>\n      <th>station_id</th>\n      <th>date</th>\n      <th>count</th>\n      <th>prob</th>\n    </tr>\n  </thead>\n  <tbody>\n    <tr>\n      <th>12208</th>\n      <td>0</td>\n      <td>2023-01-16</td>\n      <td>7</td>\n      <td>0.004476</td>\n    </tr>\n    <tr>\n      <th>8176</th>\n      <td>1</td>\n      <td>2023-01-16</td>\n      <td>6</td>\n      <td>0.003836</td>\n    </tr>\n    <tr>\n      <th>7252</th>\n      <td>2</td>\n      <td>2023-01-16</td>\n      <td>4</td>\n      <td>0.002558</td>\n    </tr>\n    <tr>\n      <th>19600</th>\n      <td>3</td>\n      <td>2023-01-16</td>\n      <td>4</td>\n      <td>0.002558</td>\n    </tr>\n    <tr>\n      <th>4228</th>\n      <td>4</td>\n      <td>2023-01-16</td>\n      <td>5</td>\n      <td>0.003197</td>\n    </tr>\n    <tr>\n      <th>...</th>\n      <td>...</td>\n      <td>...</td>\n      <td>...</td>\n      <td>...</td>\n    </tr>\n    <tr>\n      <th>3752</th>\n      <td>362</td>\n      <td>2023-01-16</td>\n      <td>8</td>\n      <td>0.005115</td>\n    </tr>\n    <tr>\n      <th>1064</th>\n      <td>363</td>\n      <td>2023-01-16</td>\n      <td>6</td>\n      <td>0.003836</td>\n    </tr>\n    <tr>\n      <th>560</th>\n      <td>364</td>\n      <td>2023-01-16</td>\n      <td>3</td>\n      <td>0.001918</td>\n    </tr>\n    <tr>\n      <th>4732</th>\n      <td>365</td>\n      <td>2023-01-16</td>\n      <td>3</td>\n      <td>0.001918</td>\n    </tr>\n    <tr>\n      <th>13328</th>\n      <td>366</td>\n      <td>2023-01-16</td>\n      <td>4</td>\n      <td>0.002558</td>\n    </tr>\n  </tbody>\n</table>\n<p>341 rows × 4 columns</p>\n</div>"
     },
     "execution_count": 26,
     "metadata": {},
     "output_type": "execute_result"
    }
   ],
   "source": [
    "d_2023_01_16\n"
   ],
   "metadata": {
    "collapsed": false
   }
  },
  {
   "cell_type": "code",
   "execution_count": null,
   "outputs": [],
   "source": [],
   "metadata": {
    "collapsed": false
   }
  }
 ],
 "metadata": {
  "kernelspec": {
   "display_name": "Python 3",
   "language": "python",
   "name": "python3"
  },
  "language_info": {
   "codemirror_mode": {
    "name": "ipython",
    "version": 2
   },
   "file_extension": ".py",
   "mimetype": "text/x-python",
   "name": "python",
   "nbconvert_exporter": "python",
   "pygments_lexer": "ipython2",
   "version": "2.7.6"
  }
 },
 "nbformat": 4,
 "nbformat_minor": 0
}
